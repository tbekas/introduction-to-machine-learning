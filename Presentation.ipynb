{
 "cells": [
  {
   "cell_type": "markdown",
   "metadata": {
    "slideshow": {
     "slide_type": "slide"
    }
   },
   "source": [
    "# Introduction to Machine Learning"
   ]
  },
  {
   "cell_type": "markdown",
   "metadata": {
    "slideshow": {
     "slide_type": "slide"
    }
   },
   "source": [
    "## Definition of Machine Learning\n",
    "*Field of study that gives computers the ability to learn without being explicitly programmed. Arthur Samuel (1959)*"
   ]
  },
  {
   "cell_type": "markdown",
   "metadata": {
    "slideshow": {
     "slide_type": "slide"
    }
   },
   "source": [
    "# Machine Learning algorithms"
   ]
  },
  {
   "cell_type": "markdown",
   "metadata": {
    "slideshow": {
     "slide_type": "slide"
    }
   },
   "source": [
    "## Supervised learning\n",
    "For every given input we know how correct output should look like.\n",
    "### Examples\n",
    "* Given data about the size of houses on the real estate market, try to predict their price.\n",
    "* Given an email content, we would like to classify it either as spam or not spam"
   ]
  },
  {
   "cell_type": "markdown",
   "metadata": {
    "slideshow": {
     "slide_type": "slide"
    }
   },
   "source": [
    "## Unsupervised learning\n",
    "For set of inputs we're trying to find the structure or relationships between different inputs.\n",
    "### Example\n",
    "* Take a collection of 1,000,000 different genes, and find a way to automatically group these genes into groups that are somehow similar or related by different variables, such as lifespan, location, roles, and so on."
   ]
  },
  {
   "cell_type": "markdown",
   "metadata": {
    "slideshow": {
     "slide_type": "slide"
    }
   },
   "source": [
    "# Supervised learning example"
   ]
  },
  {
   "cell_type": "markdown",
   "metadata": {
    "slideshow": {
     "slide_type": "slide"
    }
   },
   "source": [
    "## House pricing prediction"
   ]
  },
  {
   "cell_type": "code",
   "execution_count": null,
   "metadata": {
    "collapsed": true
   },
   "outputs": [],
   "source": [
    "Pkg.add(\"PyPlot\")\n",
    "Pkg.add(\"Interact\")\n",
    "Pkg.add(\"Reactive\")"
   ]
  },
  {
   "cell_type": "code",
   "execution_count": 4,
   "metadata": {
    "collapsed": false
   },
   "outputs": [
    {
     "name": "stderr",
     "output_type": "stream",
     "text": [
      "WARNING: Method definition gen_samples(Any) in module Main at /home/juser/bootcamp/helper.jl:9 overwritten at /home/juser/bootcamp/helper.jl:9.\n",
      "WARNING: Method definition plot_samples(Any, Any) in module Main at /home/juser/bootcamp/helper.jl:15 overwritten at /home/juser/bootcamp/helper.jl:15.\n",
      "WARNING: Method definition plot_cost(Any) in module Main at /home/juser/bootcamp/helper.jl:28 overwritten at /home/juser/bootcamp/helper.jl:28.\n"
     ]
    },
    {
     "data": {
      "text/plain": [
       "10×2 Array{Float64,2}:\n",
       "  50.0  183.0\n",
       "  67.0  177.0\n",
       "  83.0  212.0\n",
       " 100.0  225.0\n",
       " 117.0  279.0\n",
       " 133.0  304.0\n",
       " 150.0  341.0\n",
       " 167.0  370.0\n",
       " 183.0  352.0\n",
       " 200.0  417.0"
      ]
     },
     "execution_count": 4,
     "metadata": {},
     "output_type": "execute_result"
    }
   ],
   "source": [
    "include(\"helper.jl\")\n",
    "m = 10\n",
    "X, y = gen_samples(m)\n",
    "\n",
    "[X y]"
   ]
  },
  {
   "cell_type": "code",
   "execution_count": 6,
   "metadata": {
    "collapsed": false,
    "slideshow": {
     "slide_type": "slide"
    }
   },
   "outputs": [
    {
     "data": {
      "text/html": [],
      "text/plain": [
       "Interact.Options{:SelectionSlider,Int64}(7: \"input-3\" = 0 Int64 ,\"θ0\",0,\"0\",Interact.OptionDict(DataStructures.OrderedDict(\"-300\"=>-300,\"-290\"=>-290,\"-280\"=>-280,\"-270\"=>-270,\"-260\"=>-260,\"-250\"=>-250,\"-240\"=>-240,\"-230\"=>-230,\"-220\"=>-220,\"-210\"=>-210…),Dict(-90=>\"-90\",210=>\"210\",-80=>\"-80\",160=>\"160\",170=>\"170\",-200=>\"-200\",150=>\"150\",300=>\"300\",-250=>\"-250\",90=>\"90\"…)),Any[],Any[],true,\"horizontal\")"
      ]
     },
     "metadata": {},
     "output_type": "display_data"
    },
    {
     "data": {
      "text/html": [],
      "text/plain": [
       "Interact.Options{:SelectionSlider,Float64}(9: \"input-4\" = 0.0 Float64 ,\"θ1\",0.0,\"0.0\",Interact.OptionDict(DataStructures.OrderedDict(\"-3.0\"=>-3.0,\"-2.9\"=>-2.9,\"-2.8\"=>-2.8,\"-2.7\"=>-2.7,\"-2.6\"=>-2.6,\"-2.5\"=>-2.5,\"-2.4\"=>-2.4,\"-2.3\"=>-2.3,\"-2.2\"=>-2.2,\"-2.1\"=>-2.1…),Dict(1.2=>\"1.2\",-2.3=>\"-2.3\",2.0=>\"2.0\",1.5=>\"1.5\",-1.3=>\"-1.3\",1.4=>\"1.4\",-2.2=>\"-2.2\",-3.0=>\"-3.0\",0.2=>\"0.2\",-0.5=>\"-0.5\"…)),Any[],Any[],true,\"horizontal\")"
      ]
     },
     "metadata": {},
     "output_type": "display_data"
    },
    {
     "data": {
      "image/png": "[encoded data removed]",
      "text/plain": [
       "PyPlot.Figure(PyObject <matplotlib.figure.Figure object at 0x7f001fc39d90>)"
      ]
     },
     "execution_count": 6,
     "metadata": {
      "comm_id": "78efea83-3f18-40cf-a508-895a573e77c9",
      "reactive": true
     },
     "output_type": "execute_result"
    }
   ],
   "source": [
    "plot_samples(X, y)"
   ]
  },
  {
   "cell_type": "markdown",
   "metadata": {
    "collapsed": true,
    "slideshow": {
     "slide_type": "slide"
    }
   },
   "source": [
    "# Hypothesis"
   ]
  },
  {
   "cell_type": "markdown",
   "metadata": {
    "slideshow": {
     "slide_type": "slide"
    }
   },
   "source": [
    "## Single variable\n",
    "\\begin{equation*}\n",
    "h_{\\theta}(x) = \\theta_0 + \\theta_1 x\n",
    "\\end{equation*}"
   ]
  },
  {
   "cell_type": "markdown",
   "metadata": {
    "slideshow": {
     "slide_type": "slide"
    }
   },
   "source": [
    "## Multiple variables\n",
    "\\begin{equation*}\n",
    "h_{\\theta}(x) = \\theta_0 + \\theta_1 x_1 + \\theta_2 x_2 + \\dots + \\theta_n x_n\n",
    "\\end{equation*}"
   ]
  },
  {
   "cell_type": "markdown",
   "metadata": {
    "slideshow": {
     "slide_type": "slide"
    }
   },
   "source": [
    "## Multiple variables - vector notation\n",
    "\\begin{equation*}\n",
    "h_{\\theta}(x) = x \\cdot \\Theta\n",
    "\\end{equation*}\n",
    "\n",
    "\\begin{equation*}\n",
    "x = \\left[1\\ x_1\\ x_2\\ \\cdots\\ x_n \\right],\n",
    "\\Theta = \\begin{bmatrix}\n",
    "       \\theta_0 \\\\\n",
    "       \\theta_1 \\\\\n",
    "       \\theta_2 \\\\\n",
    "       \\vdots \\\\\n",
    "       \\theta_n\n",
    "\\end{bmatrix}\n",
    "\\end{equation*}"
   ]
  },
  {
   "cell_type": "markdown",
   "metadata": {
    "slideshow": {
     "slide_type": "slide"
    }
   },
   "source": [
    "# Cost function"
   ]
  },
  {
   "cell_type": "markdown",
   "metadata": {},
   "source": [
    "Choose $\\theta_0$, $\\theta_1$ so that $h_{\\theta}(x)$ is close to $y$ for our training examples $(x,y)$\n",
    "\n",
    "\\begin{equation*}\n",
    "J(\\theta_0, \\theta_1)=\\frac{1}{2m}\\sum_{i=1}^{m}\\left(h_{\\theta}(x^{(i)})-y^{(i)}\\right)^2\n",
    "\\end{equation*}\n",
    "\n",
    "$x^{(i)}$ and $y^{(i)}$ denotes the i-th example in training set"
   ]
  },
  {
   "cell_type": "code",
   "execution_count": 7,
   "metadata": {
    "collapsed": false,
    "slideshow": {
     "slide_type": "slide"
    }
   },
   "outputs": [
    {
     "data": {
      "image/png": "[encoded data removed]",
      "text/plain": [
       "PyPlot.Figure(PyObject <matplotlib.figure.Figure object at 0x7f001fa98690>)"
      ]
     },
     "metadata": {},
     "output_type": "display_data"
    },
    {
     "name": "stderr",
     "output_type": "stream",
     "text": [
      "WARNING: Method definition J(Any) in module Main at In[3]:3 overwritten at In[7]:3.\n"
     ]
    },
    {
     "data": {
      "text/plain": [
       "PyObject <matplotlib.text.Text object at 0x7f001fa06fd0>"
      ]
     },
     "execution_count": 7,
     "metadata": {},
     "output_type": "execute_result"
    }
   ],
   "source": [
    "_X=[ones(m, 1) X]\n",
    "\n",
    "J(Θ) = 1/2m * sum(((_X * Θ) - y).^2)\n",
    "\n",
    "plot_cost(J)"
   ]
  },
  {
   "cell_type": "markdown",
   "metadata": {
    "slideshow": {
     "slide_type": "slide"
    }
   },
   "source": [
    "# Cost optimization"
   ]
  },
  {
   "cell_type": "markdown",
   "metadata": {},
   "source": [
    "## Gradient descent algorithm\n",
    "`repeat for every` $j=0,\\dots,n$\n",
    "\n",
    "\\begin{equation*}\n",
    "\\theta_j:=\\theta_j - \\alpha \\frac{\\partial}{\\partial \\theta_j}J\\left(\\theta_0,\\dots,\\theta_n\\right)\n",
    "\\end{equation*}\n",
    "\n",
    "`end repeat`\n",
    "\n",
    "$\\alpha$ denotes the learning rate"
   ]
  },
  {
   "cell_type": "code",
   "execution_count": 8,
   "metadata": {
    "collapsed": false
   },
   "outputs": [
    {
     "data": {
      "text/plain": [
       "2-element Array{Float64,1}:\n",
       " 81.5119\n",
       "  1.6359"
      ]
     },
     "execution_count": 8,
     "metadata": {},
     "output_type": "execute_result"
    }
   ],
   "source": [
    "α=10.0^-4\n",
    "Θ=[0.0, 0.0]\n",
    "\n",
    "G(Θ) = 1/m * _X' * (_X * Θ - y)\n",
    "\n",
    "for i=1:10^6\n",
    "    Θ = Θ - α * G(Θ)\n",
    "end\n",
    "\n",
    "Θ"
   ]
  },
  {
   "cell_type": "markdown",
   "metadata": {},
   "source": [
    "# Improving the algorithm"
   ]
  },
  {
   "cell_type": "code",
   "execution_count": 7,
   "metadata": {
    "collapsed": false
   },
   "outputs": [
    {
     "name": "stderr",
     "output_type": "stream",
     "text": [
      "\u001b[1m\u001b[34mINFO: Nothing to be done\n",
      "\u001b[0m\u001b[1m\u001b[34mINFO: METADATA is out-of-date — you may not have the latest version of Optim\n",
      "\u001b[0m\u001b[1m\u001b[34mINFO: Use `Pkg.update()` to get the latest versions of your packages\n",
      "\u001b[0m\u001b[1m\u001b[34mINFO: Nothing to be done\n",
      "\u001b[0m\u001b[1m\u001b[34mINFO: METADATA is out-of-date — you may not have the latest version of Interact\n",
      "\u001b[0m\u001b[1m\u001b[34mINFO: Use `Pkg.update()` to get the latest versions of your packages\n",
      "\u001b[0m\u001b[1m\u001b[34mINFO: Nothing to be done\n",
      "\u001b[0m\u001b[1m\u001b[34mINFO: METADATA is out-of-date — you may not have the latest version of Reactive\n",
      "\u001b[0m\u001b[1m\u001b[34mINFO: Use `Pkg.update()` to get the latest versions of your packages\n",
      "\u001b[0m"
     ]
    }
   ],
   "source": [
    "Pkg.add(\"Optim\")"
   ]
  },
  {
   "cell_type": "code",
   "execution_count": 9,
   "metadata": {
    "collapsed": false
   },
   "outputs": [
    {
     "data": {
      "text/plain": [
       "Results of Optimization Algorithm\n",
       " * Algorithm: Gradient Descent\n",
       " * Starting Point: [0.0,0.0]\n",
       " * Minimizer: [81.5121475201472,1.635902819117658]\n",
       " * Minimum: 1.208171e+02\n",
       " * Iterations: 10\n",
       " * Convergence: false\n",
       "   * |x - x'| < 1.0e-32: false\n",
       "   * |f(x) - f(x')| / |f(x)| < 1.0e-32: false\n",
       "   * |g(x)| < 1.0e-08: false\n",
       "   * f(x) > f(x'): true\n",
       "   * Reached Maximum Number of Iterations: false\n",
       " * Objective Function Calls: 71\n",
       " * Gradient Calls: 71"
      ]
     },
     "execution_count": 9,
     "metadata": {},
     "output_type": "execute_result"
    }
   ],
   "source": [
    "using Optim\n",
    "\n",
    "Θ=[0.0, 0.0]\n",
    "\n",
    "G(Θ, res) = res[:] = G(Θ)\n",
    "\n",
    "optimize(J, G, Θ, GradientDescent())"
   ]
  },
  {
   "cell_type": "markdown",
   "metadata": {},
   "source": [
    "# Classification problems"
   ]
  },
  {
   "cell_type": "markdown",
   "metadata": {},
   "source": [
    "## Why linear regression is not suitable for classification problems?"
   ]
  },
  {
   "cell_type": "code",
   "execution_count": 10,
   "metadata": {
    "collapsed": false
   },
   "outputs": [
    {
     "data": {
      "image/png": "[encoded data removed]",
      "text/plain": [
       "PyPlot.Figure(PyObject <matplotlib.figure.Figure object at 0x7f001fe14b10>)"
      ]
     },
     "metadata": {},
     "output_type": "display_data"
    },
    {
     "data": {
      "text/plain": [
       "1-element Array{Any,1}:\n",
       " PyObject <matplotlib.lines.Line2D object at 0x7f001f67ff90>"
      ]
     },
     "execution_count": 10,
     "metadata": {},
     "output_type": "execute_result"
    }
   ],
   "source": [
    "X = [1, 2, 3, 4, 5, 6, 7, 8]\n",
    "y = [0, 0, 0, 0, 1, 1, 1, 1]\n",
    "plot(X, y, \"rx\")\n",
    "plot(X, 1/6 * (X - 1.5))"
   ]
  },
  {
   "cell_type": "code",
   "execution_count": 11,
   "metadata": {
    "collapsed": false
   },
   "outputs": [
    {
     "data": {
      "image/png": "[encoded data removed]",
      "text/plain": [
       "PyPlot.Figure(PyObject <matplotlib.figure.Figure object at 0x7f001f63d0d0>)"
      ]
     },
     "metadata": {},
     "output_type": "display_data"
    },
    {
     "data": {
      "text/plain": [
       "1-element Array{Any,1}:\n",
       " PyObject <matplotlib.lines.Line2D object at 0x7f001f5cb9d0>"
      ]
     },
     "execution_count": 11,
     "metadata": {},
     "output_type": "execute_result"
    }
   ],
   "source": [
    "X = [1, 2, 3, 4, 5, 6, 7, 8, 14]\n",
    "y = [0, 0, 0, 0, 1, 1, 1, 1, 1]\n",
    "plot(X, y, \"rx\")\n",
    "plot(X, 1/10*(X-2))"
   ]
  },
  {
   "cell_type": "markdown",
   "metadata": {},
   "source": [
    "## Output of logistic regression\n",
    "\\begin{equation*}\n",
    "h_{\\theta}(x) = s(\\Theta^Tx)\\\\\n",
    "s(z)=\\frac{1}{1+e^{-z}}\n",
    "\\end{equation*}"
   ]
  },
  {
   "cell_type": "code",
   "execution_count": 13,
   "metadata": {
    "collapsed": false
   },
   "outputs": [
    {
     "name": "stderr",
     "output_type": "stream",
     "text": [
      "WARNING: Method definition sig(Any) in module Main at In[12]:1 overwritten at In[13]:1.\n"
     ]
    },
    {
     "data": {
      "text/plain": [
       "5-element Array{Float64,1}:\n",
       " 4.53979e-5\n",
       " 0.268941  \n",
       " 0.5       \n",
       " 0.731059  \n",
       " 0.999955  "
      ]
     },
     "execution_count": 13,
     "metadata": {},
     "output_type": "execute_result"
    }
   ],
   "source": [
    "sig(z) = 1.0 ./ (1.0 + exp(-z))\n",
    "\n",
    "\n",
    "sig([-10, -1, 0, 1, 10])"
   ]
  },
  {
   "cell_type": "code",
   "execution_count": 14,
   "metadata": {
    "collapsed": false
   },
   "outputs": [
    {
     "data": {
      "image/png": "[encoded data removed]",
      "text/plain": [
       "PyPlot.Figure(PyObject <matplotlib.figure.Figure object at 0x7f001f9e3690>)"
      ]
     },
     "metadata": {},
     "output_type": "display_data"
    },
    {
     "data": {
      "text/plain": [
       "1-element Array{Any,1}:\n",
       " PyObject <matplotlib.lines.Line2D object at 0x7f001f5121d0>"
      ]
     },
     "execution_count": 14,
     "metadata": {},
     "output_type": "execute_result"
    }
   ],
   "source": [
    "z = linspace(-5,5,100)\n",
    "plot(z, sig(z))"
   ]
  },
  {
   "cell_type": "markdown",
   "metadata": {
    "slideshow": {
     "slide_type": "slide"
    }
   },
   "source": [
    "# Installing required dependencies"
   ]
  },
  {
   "cell_type": "code",
   "execution_count": 2,
   "metadata": {
    "collapsed": false,
    "scrolled": false,
    "slideshow": {
     "slide_type": "-"
    }
   },
   "outputs": [
    {
     "name": "stderr",
     "output_type": "stream",
     "text": [
      "\u001b[1m\u001b[34mINFO: Installing MNIST v0.0.2\n",
      "\u001b[0m\u001b[1m\u001b[34mINFO: Package database updated\n",
      "\u001b[0m\u001b[1m\u001b[34mINFO: METADATA is out-of-date — you may not have the latest version of MNIST\n",
      "\u001b[0m\u001b[1m\u001b[34mINFO: Use `Pkg.update()` to get the latest versions of your packages\n",
      "\u001b[0m\u001b[1m\u001b[34mINFO: Nothing to be done\n",
      "\u001b[0m\u001b[1m\u001b[34mINFO: METADATA is out-of-date — you may not have the latest version of Images\n",
      "\u001b[0m\u001b[1m\u001b[34mINFO: Use `Pkg.update()` to get the latest versions of your packages\n",
      "\u001b[0m\u001b[1m\u001b[34mINFO: Nothing to be done\n",
      "\u001b[0m\u001b[1m\u001b[34mINFO: METADATA is out-of-date — you may not have the latest version of ImageMagick\n",
      "\u001b[0m\u001b[1m\u001b[34mINFO: Use `Pkg.update()` to get the latest versions of your packages\n",
      "\u001b[0m\u001b[1m\u001b[34mINFO: Nothing to be done\n",
      "\u001b[0m\u001b[1m\u001b[34mINFO: METADATA is out-of-date — you may not have the latest version of Interact\n",
      "\u001b[0m\u001b[1m\u001b[34mINFO: Use `Pkg.update()` to get the latest versions of your packages\n",
      "\u001b[0m\u001b[1m\u001b[34mINFO: Nothing to be done\n",
      "\u001b[0m\u001b[1m\u001b[34mINFO: METADATA is out-of-date — you may not have the latest version of Reactive\n",
      "\u001b[0m\u001b[1m\u001b[34mINFO: Use `Pkg.update()` to get the latest versions of your packages\n",
      "\u001b[0m"
     ]
    }
   ],
   "source": [
    "Pkg.add(\"MNIST\")\n",
    "Pkg.add(\"Images\")\n",
    "Pkg.add(\"ImageMagick\")"
   ]
  },
  {
   "cell_type": "markdown",
   "metadata": {
    "slideshow": {
     "slide_type": "slide"
    }
   },
   "source": [
    "# Importing the data"
   ]
  },
  {
   "cell_type": "code",
   "execution_count": 38,
   "metadata": {
    "collapsed": false,
    "scrolled": false,
    "slideshow": {
     "slide_type": "-"
    }
   },
   "outputs": [
    {
     "data": {
      "text/plain": [
       "(\n",
       "[0.0 0.0 … 0.0 0.0; 0.0 0.0 … 0.0 0.0; … ; 0.0 0.0 … 0.0 0.0; 0.0 0.0 … 0.0 0.0],\n",
       "\n",
       "[5.0,0.0,4.0,1.0,9.0,2.0,1.0,3.0,1.0,4.0  …  9.0,2.0,9.0,5.0,1.0,8.0,3.0,5.0,6.0,8.0])"
      ]
     },
     "execution_count": 38,
     "metadata": {},
     "output_type": "execute_result"
    }
   ],
   "source": [
    "using MNIST\n",
    "\n",
    "X, y = traindata()"
   ]
  },
  {
   "cell_type": "markdown",
   "metadata": {
    "slideshow": {
     "slide_type": "slide"
    }
   },
   "source": [
    "# Inspecting the data"
   ]
  },
  {
   "cell_type": "code",
   "execution_count": 39,
   "metadata": {
    "collapsed": false,
    "scrolled": false,
    "slideshow": {
     "slide_type": "-"
    }
   },
   "outputs": [
    {
     "data": {
      "text/plain": [
       "((784,60000),(60000,))"
      ]
     },
     "execution_count": 39,
     "metadata": {},
     "output_type": "execute_result"
    }
   ],
   "source": [
    "size(X), size(y)"
   ]
  },
  {
   "cell_type": "code",
   "execution_count": 40,
   "metadata": {
    "collapsed": false
   },
   "outputs": [
    {
     "data": {
      "text/plain": [
       "(0.0,255.0)"
      ]
     },
     "execution_count": 40,
     "metadata": {},
     "output_type": "execute_result"
    }
   ],
   "source": [
    "(minimum(X), maximum(X))"
   ]
  },
  {
   "cell_type": "markdown",
   "metadata": {},
   "source": [
    "## Normalizing the data"
   ]
  },
  {
   "cell_type": "code",
   "execution_count": 41,
   "metadata": {
    "collapsed": false,
    "scrolled": false,
    "slideshow": {
     "slide_type": "-"
    }
   },
   "outputs": [
    {
     "data": {
      "text/plain": [
       "(true,(60000,784))"
      ]
     },
     "execution_count": 41,
     "metadata": {},
     "output_type": "execute_result"
    }
   ],
   "source": [
    "X = X'\n",
    "X /= 255.0\n",
    "\n",
    "all(x -> 0.0 <= x <= 1.0, X), size(X)"
   ]
  },
  {
   "cell_type": "markdown",
   "metadata": {
    "slideshow": {
     "slide_type": "subslide"
    }
   },
   "source": [
    "## Displaying individual images"
   ]
  },
  {
   "cell_type": "code",
   "execution_count": 43,
   "metadata": {
    "collapsed": false,
    "scrolled": false,
    "slideshow": {
     "slide_type": "-"
    }
   },
   "outputs": [
    {
     "data": {
      "text/html": [],
      "text/plain": [
       "Interact.Slider{Int64}(13: \"input-5\" = 30000 Int64 ,\"\",30000,1:60000,\"horizontal\",true,\"d\",true)"
      ]
     },
     "execution_count": 43,
     "metadata": {},
     "output_type": "execute_result"
    }
   ],
   "source": [
    "m, n = size(X)\n",
    "sqr_n = Int64(√n)\n",
    "\n",
    "s = slider(1:m)"
   ]
  },
  {
   "cell_type": "code",
   "execution_count": 44,
   "metadata": {
    "collapsed": false,
    "scrolled": false
   },
   "outputs": [
    {
     "data": {
      "image/png": "[encoded data removed]",
      "text/plain": [
       "28×28 Array{Gray{Float64},2}:\n",
       " Gray{Float64}(0.0)  Gray{Float64}(0.0)  …  Gray{Float64}(0.0)\n",
       " Gray{Float64}(0.0)  Gray{Float64}(0.0)     Gray{Float64}(0.0)\n",
       " Gray{Float64}(0.0)  Gray{Float64}(0.0)     Gray{Float64}(0.0)\n",
       " Gray{Float64}(0.0)  Gray{Float64}(0.0)     Gray{Float64}(0.0)\n",
       " Gray{Float64}(0.0)  Gray{Float64}(0.0)     Gray{Float64}(0.0)\n",
       " Gray{Float64}(0.0)  Gray{Float64}(0.0)  …  Gray{Float64}(0.0)\n",
       " Gray{Float64}(0.0)  Gray{Float64}(0.0)     Gray{Float64}(0.0)\n",
       " Gray{Float64}(0.0)  Gray{Float64}(0.0)     Gray{Float64}(0.0)\n",
       " Gray{Float64}(0.0)  Gray{Float64}(0.0)     Gray{Float64}(0.0)\n",
       " Gray{Float64}(0.0)  Gray{Float64}(0.0)     Gray{Float64}(0.0)\n",
       " Gray{Float64}(0.0)  Gray{Float64}(0.0)  …  Gray{Float64}(0.0)\n",
       " Gray{Float64}(0.0)  Gray{Float64}(0.0)     Gray{Float64}(0.0)\n",
       " Gray{Float64}(0.0)  Gray{Float64}(0.0)     Gray{Float64}(0.0)\n",
       " ⋮                                       ⋱                    \n",
       " Gray{Float64}(0.0)  Gray{Float64}(0.0)     Gray{Float64}(0.0)\n",
       " Gray{Float64}(0.0)  Gray{Float64}(0.0)     Gray{Float64}(0.0)\n",
       " Gray{Float64}(0.0)  Gray{Float64}(0.0)     Gray{Float64}(0.0)\n",
       " Gray{Float64}(0.0)  Gray{Float64}(0.0)     Gray{Float64}(0.0)\n",
       " Gray{Float64}(0.0)  Gray{Float64}(0.0)  …  Gray{Float64}(0.0)\n",
       " Gray{Float64}(0.0)  Gray{Float64}(0.0)     Gray{Float64}(0.0)\n",
       " Gray{Float64}(0.0)  Gray{Float64}(0.0)     Gray{Float64}(0.0)\n",
       " Gray{Float64}(0.0)  Gray{Float64}(0.0)     Gray{Float64}(0.0)\n",
       " Gray{Float64}(0.0)  Gray{Float64}(0.0)     Gray{Float64}(0.0)\n",
       " Gray{Float64}(0.0)  Gray{Float64}(0.0)  …  Gray{Float64}(0.0)\n",
       " Gray{Float64}(0.0)  Gray{Float64}(0.0)     Gray{Float64}(0.0)\n",
       " Gray{Float64}(0.0)  Gray{Float64}(0.0)     Gray{Float64}(0.0)"
      ]
     },
     "execution_count": 44,
     "metadata": {
      "comm_id": "45aa9179-2c53-4bac-99d4-c947874b8dae",
      "reactive": true
     },
     "output_type": "execute_result"
    }
   ],
   "source": [
    "using Images\n",
    "\n",
    "map(i -> colorview(Gray, reshape(X[i, :], sqr_n, sqr_n)), signal(s))"
   ]
  },
  {
   "cell_type": "code",
   "execution_count": 49,
   "metadata": {
    "collapsed": false,
    "scrolled": false
   },
   "outputs": [
    {
     "data": {
      "text/plain": [
       "1.0"
      ]
     },
     "execution_count": 49,
     "metadata": {
      "comm_id": "906ccbb3-3a24-4f13-9db9-655ef72e58b4",
      "reactive": true
     },
     "output_type": "execute_result"
    }
   ],
   "source": [
    "map(i -> y[i], signal(s))"
   ]
  },
  {
   "cell_type": "code",
   "execution_count": 50,
   "metadata": {
    "collapsed": false
   },
   "outputs": [
    {
     "name": "stdout",
     "output_type": "stream",
     "text": [
      "iteration 1\n",
      "iteration 2\n",
      "iteration 3\n",
      "iteration 4\n",
      "iteration 5\n",
      "iteration 6\n",
      "iteration 7\n",
      "iteration 8\n",
      "iteration 9\n",
      "iteration 10\n"
     ]
    }
   ],
   "source": [
    "using Optim\n",
    "\n",
    "m = 1000\n",
    "_X = [ones(m, 1) X[1:m, :]]\n",
    "Θ = zeros(n+1)\n",
    "λ = 0.1\n",
    "All_Θ = zeros(10, n+1)\n",
    "\n",
    "for i = 1:10\n",
    "    println(\"iteration $i\")\n",
    "    _y = y[1:m] .== i\n",
    "    \n",
    "    local J_reg(Θ) = (-_y' * log(sig(_X * Θ)) - (1.0 - _y') * log(1 - sig(_X * Θ)))[1] + λ/2m * sum(Θ[2:end] .^ 2)\n",
    "    local G_reg(Θ) = 1/m * _X' * (sig(_X * Θ) - _y) + unshift!(λ/m * Θ[2:end], 0.0)\n",
    "    local G_reg!(Θ, res) = res[:] = G_reg(Θ)\n",
    "\n",
    "    res = optimize(J_reg, G_reg!, zeros(n+1), GradientDescent())\n",
    "    All_Θ[i,:] = res.minimizer\n",
    "end"
   ]
  },
  {
   "cell_type": "code",
   "execution_count": 54,
   "metadata": {
    "collapsed": false
   },
   "outputs": [
    {
     "data": {
      "text/plain": [
       "-2.825485454029879"
      ]
     },
     "execution_count": 54,
     "metadata": {},
     "output_type": "execute_result"
    }
   ],
   "source": []
  },
  {
   "cell_type": "code",
   "execution_count": 48,
   "metadata": {
    "collapsed": false
   },
   "outputs": [
    {
     "data": {
      "text/plain": [
       "1-element Array{Float64,1}:\n",
       " -1.24359"
      ]
     },
     "execution_count": 48,
     "metadata": {
      "comm_id": "41193c67-ed32-45fe-a6f7-f4329c189083",
      "reactive": true
     },
     "output_type": "execute_result"
    }
   ],
   "source": [
    "map(i -> [1 X[i,:]'] * res.minimizer, signal(s))"
   ]
  }
 ],
 "metadata": {
  "celltoolbar": "Slideshow",
  "kernelspec": {
   "display_name": "Julia 0.5.2",
   "language": "julia",
   "name": "julia-0.5"
  },
  "language_info": {
   "file_extension": ".jl",
   "mimetype": "application/julia",
   "name": "julia",
   "version": "0.5.2"
  },
  "latex_envs": {
   "LaTeX_envs_menu_present": true,
   "autocomplete": true,
   "bibliofile": "biblio.bib",
   "cite_by": "apalike",
   "current_citInitial": 1,
   "eqLabelWithNumbers": true,
   "eqNumInitial": 1,
   "hotkeys": {
    "equation": "Ctrl-E",
    "itemize": "Ctrl-I"
   },
   "labels_anchors": false,
   "latex_user_defs": false,
   "report_style_numbering": false,
   "user_envs_cfg": false
  }
 },
 "nbformat": 4,
 "nbformat_minor": 2
}
